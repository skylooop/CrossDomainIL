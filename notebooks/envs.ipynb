{
 "cells": [
  {
   "cell_type": "code",
   "execution_count": 1,
   "metadata": {},
   "outputs": [
    {
     "data": {
      "text/plain": [
       "(array([ 0.05479121, -0.01222431,  0.8217196 ,  0.99160886, -0.07742714,\n",
       "         0.09074426,  0.049823  ,  0.05721286, -0.07437728, -0.00992281,\n",
       "        -0.0258404 ,  0.08535299,  0.02877302,  0.06455232, -0.01131716,\n",
       "         1.3140707 ,  1.3140707 ,  1.3140707 ,  1.3140707 ,  1.3140707 ,\n",
       "         1.3140707 ,  1.3140707 ,  1.3140707 ,  1.3140707 ,  1.3140707 ,\n",
       "         1.3140707 ,  1.3140707 ,  1.3140707 ,  1.3140707 ,  0.        ],\n",
       "       dtype=float32),\n",
       " None)"
      ]
     },
     "execution_count": 1,
     "metadata": {},
     "output_type": "execute_result"
    }
   ],
   "source": [
    "import os\n",
    "import sys\n",
    "import matplotlib.pyplot as plt\n",
    "import numpy as np\n",
    "\n",
    "sys.path.append(\"..\")\n",
    "\n",
    "os.environ['CUDA_VISIBLE_DEVICES']='1'\n",
    "os.environ['MUJOCO_GL']='egl'\n",
    "\n",
    "%load_ext autoreload\n",
    "%autoreload 2\n",
    "\n",
    "from envs.maze_envs import CustomPointUMazeSize3Env, CustomAntUMazeSize3Env\n",
    "source_env = CustomPointUMazeSize3Env()\n",
    "target_env = CustomAntUMazeSize3Env()\n",
    "\n",
    "source_env.reset(42, None)\n",
    "target_env.reset(42, None)"
   ]
  },
  {
   "cell_type": "code",
   "execution_count": 2,
   "metadata": {},
   "outputs": [
    {
     "name": "stdout",
     "output_type": "stream",
     "text": [
      "(7,)\n",
      "(30,)\n"
     ]
    }
   ],
   "source": [
    "print(source_env.observation_space.shape)\n",
    "print(target_env.observation_space.shape)"
   ]
  },
  {
   "cell_type": "code",
   "execution_count": 3,
   "metadata": {},
   "outputs": [],
   "source": [
    "## Source PointUMaze; Target AntUMaze\n",
    "from datasets.dataset import Dataset\n",
    "\n",
    "expert_source = np.load(\"/home/m_bobrin/CrossDomainIL/outputs/2024-04-04/21-13-01/saved_expert/trained_expert.npy\", allow_pickle=True).item()\n",
    "random_source = np.load(\"/home/m_bobrin/CrossDomainIL/outputs/2024-04-04/21-13-01/saved_prior/random_policy.npy\", allow_pickle=True).item()\n",
    "random_target = np.load(\"/home/m_bobrin/CrossDomainIL/outputs/2024-04-04/21-43-22/saved_prior/random_policy.npy\", allow_pickle=True).item()\n",
    "\n",
    "expert_source_ds = Dataset(observations=expert_source['observations'],\n",
    "                           actions=expert_source['actions'],\n",
    "                           rewards=expert_source['rewards'],\n",
    "                           dones_float=expert_source['dones'],\n",
    "                           masks=1.0 - expert_source['dones'],\n",
    "                           next_observations=expert_source['next_observations'],\n",
    "                           size=expert_source['observations'].shape[0])\n",
    "\n",
    "non_expert_source_ds = Dataset(observations=random_source['observations'],\n",
    "                           actions=random_source['actions'],\n",
    "                           rewards=random_source['rewards'],\n",
    "                           dones_float=random_source['dones'],\n",
    "                           masks=1.0 - random_source['dones'],\n",
    "                           next_observations=random_source['next_observations'],\n",
    "                           size=random_source['observations'].shape[0])\n",
    "\n",
    "agent_target_ds = Dataset(observations=random_target['observations'],\n",
    "                           actions=random_target['actions'],\n",
    "                           rewards=random_target['rewards'],\n",
    "                           dones_float=random_target['dones'],\n",
    "                           masks=1.0 - random_target['dones'],\n",
    "                           next_observations=random_target['next_observations'],\n",
    "                           size=random_target['observations'].shape[0])"
   ]
  },
  {
   "cell_type": "code",
   "execution_count": 4,
   "metadata": {},
   "outputs": [
    {
     "data": {
      "text/plain": [
       "(-0.5, 479.5, 479.5, -0.5)"
      ]
     },
     "execution_count": 4,
     "metadata": {},
     "output_type": "execute_result"
    },
    {
     "data": {
      "image/png": "[encoded data removed]",
      "text/plain": [
       "<Figure size 640x480 with 2 Axes>"
      ]
     },
     "metadata": {},
     "output_type": "display_data"
    }
   ],
   "source": [
    "fig, axs = plt.subplots(1, 2, sharex=True, sharey=True)\n",
    "source_env.wrapped_env.set_xy(expert_source['observations'][30, :2])\n",
    "target_env.wrapped_env.set_xy(random_target['observations'][500, :2])\n",
    "axs[0].imshow(source_env.render('rgb_array'))\n",
    "axs[1].imshow(target_env.render('rgb_array'))\n",
    "\n",
    "axs[0].axis('off')\n",
    "axs[1].axis('off')"
   ]
  },
  {
   "cell_type": "code",
   "execution_count": 5,
   "metadata": {},
   "outputs": [],
   "source": [
    "from ott.neural.solvers.neuraldual import W2NeuralDual\n",
    "import jax.numpy as jnp\n",
    "import jax\n",
    "from ott.geometry import costs\n",
    "from ott.problems.linear import potentials\n",
    "\n",
    "class W2NeuralDualCustom(W2NeuralDual):\n",
    "    def __init__(self, *args, **kwargs):\n",
    "        super().__init__(*args, **kwargs)\n",
    "        self.train_fn = self.train_neuraldual_parallel_custom\n",
    "    \n",
    "    def __call__(self, batch_expert, batch_agent):\n",
    "        return self.train_fn(batch_expert, batch_agent)\n",
    "    \n",
    "    def to_dual_potentials(\n",
    "      self, finetune_g: bool = True\n",
    "    ):\n",
    "        f_value = self.state_f.potential_value_fn(self.state_f.params)\n",
    "        g_value_prediction = self.state_g.potential_value_fn(\n",
    "            self.state_g.params, f_value\n",
    "        )\n",
    "\n",
    "        def g_value_finetuned(y: jnp.ndarray) -> jnp.ndarray:\n",
    "            x_hat = jax.grad(g_value_prediction)(y)\n",
    "            grad_g_y = jax.lax.stop_gradient(\n",
    "                self.conjugate_solver.solve(f_value, y, x_init=x_hat).grad\n",
    "            )\n",
    "            return -f_value(grad_g_y) + jnp.dot(grad_g_y, y)\n",
    "\n",
    "        return potentials.DualPotentials(\n",
    "            f=f_value,\n",
    "            g=g_value_prediction if not finetune_g or self.conjugate_solver is None\n",
    "            else g_value_finetuned,\n",
    "            cost_fn=costs.SqEuclidean(),\n",
    "            corr=True\n",
    "        )\n",
    "    \n",
    "    def train_neuraldual_parallel_custom(self, batch_agent, batch_expert):\n",
    "        try:\n",
    "            from tqdm.auto import tqdm\n",
    "        except ImportError:\n",
    "            tqdm = lambda _: _\n",
    "        train_batch, valid_batch = {}, {}\n",
    "\n",
    "        for step in tqdm(range(self.num_train_iters)):\n",
    "            update_forward = not self.back_and_forth or step % 2 == 0\n",
    "            if update_forward:\n",
    "                train_batch[\"source\"] = batch_agent\n",
    "                train_batch[\"target\"] = batch_expert\n",
    "                (self.state_f, self.state_g, loss, loss_f, loss_g,\n",
    "                w_dist) = self.train_step_parallel(\n",
    "                    self.state_f,\n",
    "                    self.state_g,\n",
    "                    train_batch,\n",
    "                )\n",
    "            else:\n",
    "                train_batch[\"target\"] = batch_expert\n",
    "                train_batch[\"source\"] = batch_agent\n",
    "                (self.state_g, self.state_f, loss, loss_f, loss_g,\n",
    "                w_dist) = self.train_step_parallel(\n",
    "                    self.state_g,\n",
    "                    self.state_f,\n",
    "                    train_batch,\n",
    "                )\n",
    "\n",
    "            if not self.pos_weights:\n",
    "                # Only clip the weights of the f network\n",
    "                self.state_f = self.state_f.replace(\n",
    "                    params=self._clip_weights_icnn(self.state_f.params)\n",
    "                )\n",
    "        return self"
   ]
  },
  {
   "cell_type": "code",
   "execution_count": 18,
   "metadata": {},
   "outputs": [],
   "source": [
    "import jax\n",
    "from networks.common import MLP, Model, LayerNormMLP, TrainState\n",
    "import jax.numpy as jnp\n",
    "import optax\n",
    "import flax.linen as nn\n",
    "from flax.struct import PyTreeNode\n",
    "from typing import Sequence, Dict\n",
    "from ott.neural.solvers.neuraldual import W2NeuralDual\n",
    "from ott.neural import models\n",
    "import functools\n",
    "import flax\n",
    "\n",
    "nonpytree_field = functools.partial(flax.struct.field, pytree_node=False)\n",
    "\n",
    "rng = jax.random.PRNGKey(42)\n",
    "\n",
    "enc1_key, enc2_key = jax.random.split(rng, 2)\n",
    "\n",
    "hidden_dims = [32, 16, 8, 2]\n",
    "encoder_expert = LayerNormMLP(hidden_dims=hidden_dims)\n",
    "encoder_agent = LayerNormMLP(hidden_dims=hidden_dims)\n",
    "\n",
    "neural_f = models.MLP(\n",
    "    dim_hidden=[32, 32, 32, 32],\n",
    "    is_potential=True,\n",
    ")\n",
    "neural_g = models.MLP(\n",
    "    dim_hidden=[32, 32, 32, 32],\n",
    "    is_potential=True,\n",
    ")\n",
    "# lr_schedule = optax.cosine_decay_schedule(\n",
    "#     init_value=1e-4, decay_steps=5, alpha=1e-2\n",
    "# )\n",
    "optimizer_f = optax.adam(learning_rate=3e-4, b1=0.9, b2=0.99)\n",
    "optimizer_g = optimizer_f\n",
    "\n",
    "neural_dual = W2NeuralDualCustom(dim_data=hidden_dims[-1] * 2, \n",
    "                            neural_f=neural_f,\n",
    "                            neural_g=neural_g,\n",
    "                            num_train_iters=1_500)\n",
    "\n",
    "@functools.partial(jax.jit, static_argnames=('not_solver'))\n",
    "def _update_agent(not_solver, network, batch_expert, batch_agent):\n",
    "    def loss_fn(params):\n",
    "        not_loss = network(not_solver, batch_agent, batch_expert, params=params, method='compute_ot_distance') # First loss\n",
    "        expert_enc_loss = network(not_solver, batch_expert, params=params, method='compute_expert_encoder_loss') # Second loss\n",
    "        loss = not_loss - expert_enc_loss\n",
    "        return loss, {'loss': loss,\n",
    "                      'not_distance': not_loss,\n",
    "                      'expert_encoder_loss': expert_enc_loss}\n",
    "    \n",
    "    new_agent, info = network.apply_loss_fn(loss_fn=loss_fn, has_aux=True)\n",
    "    return new_agent, info\n",
    "\n",
    "class NotNetwork(nn.Module):\n",
    "    encoders: Dict[str, nn.Module]\n",
    "\n",
    "    def compute_ot_distance(self, not_solver, batch_agent, batch_expert):\n",
    "        learned_potentials = not_solver.to_dual_potentials()\n",
    "        encoded_s_agent = self.encode_agent(batch_agent.observations)\n",
    "        encoded_s_expert = self.encode_expert(batch_expert.observations)\n",
    "        agent_s = jnp.concatenate([encoded_s_agent, encoded_s_agent], axis=-1)\n",
    "        expert_s = jnp.concatenate([encoded_s_expert, encoded_s_expert], axis=-1)\n",
    "        return learned_potentials.distance(agent_s, expert_s)\n",
    "    \n",
    "    def compute_expert_encoder_loss(self, not_solver, batch_exp): # maximize target potential g w.r.t encoder\n",
    "        next_s = self.encode_expert(batch_exp.next_observations)\n",
    "        s = self.encode_expert(batch_exp.observations)\n",
    "        potential_eval = not_solver.state_g.potential_value_fn(params=not_solver.state_g.params)(jnp.concatenate([s, next_s], axis=-1))\n",
    "        return potential_eval.mean()\n",
    "    \n",
    "    def encode_expert(self, expert_states):\n",
    "        return self.encoders['expert_encoder'](expert_states)\n",
    "    \n",
    "    def encode_agent(self, agent_states):\n",
    "        return self.encoders['agent_encoder'](agent_states)\n",
    "    \n",
    "    def __call__(self, expert_obs, agent_obs):\n",
    "        rets = {\n",
    "            \"encoded_expert\": self.encode_expert(expert_obs),\n",
    "            \"encoded_agent\": self.encode_agent(agent_obs)\n",
    "        }\n",
    "        return rets\n",
    "\n",
    "class JointAgent(PyTreeNode):\n",
    "    network: TrainState\n",
    "    \n",
    "    def optimize_not(self, not_solver, batch_expert, batch_agent):\n",
    "        exp_reps = jnp.concatenate([self.network(batch_expert.observations, method='encode_expert'), self.network(batch_expert.next_observations, method='encode_expert')], axis=-1)\n",
    "        ag_reps = jnp.concatenate([self.network(batch_agent.observations, method='encode_agent'), self.network(batch_agent.next_observations, method='encode_agent')], axis=-1)\n",
    "        updated_not_solver = not_solver(ag_reps, exp_reps)\n",
    "        return updated_not_solver\n",
    "    \n",
    "    def pretrain_update(self, not_solver, batch_expert, batch_agent):\n",
    "        new_neural_dual = self.optimize_not(not_solver, batch_expert, batch_agent)\n",
    "        new_agent, info = _update_agent(\n",
    "            new_neural_dual, self.network, batch_expert, batch_agent\n",
    "        )\n",
    "        return self.replace(network=new_agent), new_neural_dual, info\n",
    "    \n",
    "net_def = NotNetwork(encoders={\n",
    "    'expert_encoder': encoder_expert,\n",
    "    'agent_encoder': encoder_agent\n",
    "})\n",
    "\n",
    "network = TrainState.create(\n",
    "    model_def=net_def,\n",
    "    params=net_def.init(rng, expert_source_ds.observations[0], agent_target_ds.observations[0])['params'],\n",
    "    tx=optax.adam(learning_rate=1e-4)\n",
    ")\n",
    "agent = JointAgent(network=network)\n"
   ]
  },
  {
   "cell_type": "code",
   "execution_count": 19,
   "metadata": {},
   "outputs": [
    {
     "data": {
      "text/plain": [
       "Array(10.660564, dtype=float32)"
      ]
     },
     "execution_count": 19,
     "metadata": {},
     "output_type": "execute_result"
    }
   ],
   "source": [
    "from ott.tools import sinkhorn_divergence\n",
    "from ott.geometry import pointcloud\n",
    "\n",
    "@jax.jit\n",
    "def sinkhorn_loss(\n",
    "    x: jnp.ndarray, y: jnp.ndarray, epsilon: float = 0.1\n",
    ") -> float:\n",
    "    \"\"\"Computes transport between (x, a) and (y, b) via Sinkhorn algorithm.\"\"\"\n",
    "    a = jnp.ones(len(x)) / len(x)\n",
    "    b = jnp.ones(len(y)) / len(y)\n",
    "\n",
    "    sdiv = sinkhorn_divergence.sinkhorn_divergence(\n",
    "        pointcloud.PointCloud, x, y, epsilon=epsilon, a=a, b=b\n",
    "    )\n",
    "    return sdiv.divergence\n",
    "\n",
    "expert_test_data = expert_source_ds.sample(50)\n",
    "non_expert_test_data = non_expert_source_ds.sample(50)\n",
    "target_test_data = agent_target_ds.sample(50)\n",
    "\n",
    "sinkhorn_loss(expert_test_data.observations, non_expert_test_data.observations)"
   ]
  },
  {
   "cell_type": "code",
   "execution_count": 20,
   "metadata": {},
   "outputs": [
    {
     "data": {
      "application/vnd.jupyter.widget-view+json": {
       "model_id": "5234cbe0aa26471b81c07aa0a8f8ae9a",
       "version_major": 2,
       "version_minor": 0
      },
      "text/plain": [
       "  0%|          | 0/1500 [00:00<?, ?it/s]"
      ]
     },
     "metadata": {},
     "output_type": "display_data"
    },
    {
     "name": "stdout",
     "output_type": "stream",
     "text": [
      "{'expert_encoder_loss': Array(5.5961466, dtype=float32), 'loss': Array(-3.3572693, dtype=float32), 'not_distance': Array(2.2388773, dtype=float32)}\n"
     ]
    },
    {
     "data": {
      "application/vnd.jupyter.widget-view+json": {
       "model_id": "98c9178eef8f45d9b7fbc59dadf9190f",
       "version_major": 2,
       "version_minor": 0
      },
      "text/plain": [
       "  0%|          | 0/1500 [00:00<?, ?it/s]"
      ]
     },
     "metadata": {},
     "output_type": "display_data"
    },
    {
     "name": "stdout",
     "output_type": "stream",
     "text": [
      "{'expert_encoder_loss': Array(5.527655, dtype=float32), 'loss': Array(-2.8811345, dtype=float32), 'not_distance': Array(2.6465206, dtype=float32)}\n"
     ]
    },
    {
     "data": {
      "application/vnd.jupyter.widget-view+json": {
       "model_id": "3d486e83060746a297c87a0df4f194dd",
       "version_major": 2,
       "version_minor": 0
      },
      "text/plain": [
       "  0%|          | 0/1500 [00:00<?, ?it/s]"
      ]
     },
     "metadata": {},
     "output_type": "display_data"
    },
    {
     "name": "stdout",
     "output_type": "stream",
     "text": [
      "{'expert_encoder_loss': Array(5.268074, dtype=float32), 'loss': Array(-2.5876474, dtype=float32), 'not_distance': Array(2.6804266, dtype=float32)}\n"
     ]
    },
    {
     "data": {
      "application/vnd.jupyter.widget-view+json": {
       "model_id": "83e8465c65524e53b52165b5287e66ec",
       "version_major": 2,
       "version_minor": 0
      },
      "text/plain": [
       "  0%|          | 0/1500 [00:00<?, ?it/s]"
      ]
     },
     "metadata": {},
     "output_type": "display_data"
    },
    {
     "name": "stdout",
     "output_type": "stream",
     "text": [
      "{'expert_encoder_loss': Array(5.5277405, dtype=float32), 'loss': Array(-3.1543837, dtype=float32), 'not_distance': Array(2.3733568, dtype=float32)}\n"
     ]
    },
    {
     "data": {
      "application/vnd.jupyter.widget-view+json": {
       "model_id": "3f75804919384c758210d3ebd2d0edaf",
       "version_major": 2,
       "version_minor": 0
      },
      "text/plain": [
       "  0%|          | 0/1500 [00:00<?, ?it/s]"
      ]
     },
     "metadata": {},
     "output_type": "display_data"
    },
    {
     "name": "stdout",
     "output_type": "stream",
     "text": [
      "{'expert_encoder_loss': Array(5.4943457, dtype=float32), 'loss': Array(-4.6084137, dtype=float32), 'not_distance': Array(0.88593197, dtype=float32)}\n"
     ]
    },
    {
     "data": {
      "application/vnd.jupyter.widget-view+json": {
       "model_id": "5b005b493e264783a5e5935cc21edf65",
       "version_major": 2,
       "version_minor": 0
      },
      "text/plain": [
       "  0%|          | 0/1500 [00:00<?, ?it/s]"
      ]
     },
     "metadata": {},
     "output_type": "display_data"
    },
    {
     "name": "stdout",
     "output_type": "stream",
     "text": [
      "{'expert_encoder_loss': Array(5.626703, dtype=float32), 'loss': Array(-4.25283, dtype=float32), 'not_distance': Array(1.3738728, dtype=float32)}\n"
     ]
    },
    {
     "data": {
      "application/vnd.jupyter.widget-view+json": {
       "model_id": "9ee61ad28ec144cdac711787f44052b8",
       "version_major": 2,
       "version_minor": 0
      },
      "text/plain": [
       "  0%|          | 0/1500 [00:00<?, ?it/s]"
      ]
     },
     "metadata": {},
     "output_type": "display_data"
    },
    {
     "name": "stdout",
     "output_type": "stream",
     "text": [
      "{'expert_encoder_loss': Array(5.313399, dtype=float32), 'loss': Array(-2.6731687, dtype=float32), 'not_distance': Array(2.6402302, dtype=float32)}\n"
     ]
    },
    {
     "data": {
      "application/vnd.jupyter.widget-view+json": {
       "model_id": "8aefd61096054f08a03c28100dba4fd5",
       "version_major": 2,
       "version_minor": 0
      },
      "text/plain": [
       "  0%|          | 0/1500 [00:00<?, ?it/s]"
      ]
     },
     "metadata": {},
     "output_type": "display_data"
    },
    {
     "name": "stdout",
     "output_type": "stream",
     "text": [
      "{'expert_encoder_loss': Array(5.7154627, dtype=float32), 'loss': Array(-3.2449937, dtype=float32), 'not_distance': Array(2.470469, dtype=float32)}\n"
     ]
    },
    {
     "data": {
      "application/vnd.jupyter.widget-view+json": {
       "model_id": "5df4464fb0c34807b34337d891fbd36f",
       "version_major": 2,
       "version_minor": 0
      },
      "text/plain": [
       "  0%|          | 0/1500 [00:00<?, ?it/s]"
      ]
     },
     "metadata": {},
     "output_type": "display_data"
    },
    {
     "name": "stdout",
     "output_type": "stream",
     "text": [
      "{'expert_encoder_loss': Array(5.8169947, dtype=float32), 'loss': Array(-4.8258076, dtype=float32), 'not_distance': Array(0.9911871, dtype=float32)}\n"
     ]
    },
    {
     "data": {
      "application/vnd.jupyter.widget-view+json": {
       "model_id": "683260a63e894f6e8da07239d0a23eb5",
       "version_major": 2,
       "version_minor": 0
      },
      "text/plain": [
       "  0%|          | 0/1500 [00:00<?, ?it/s]"
      ]
     },
     "metadata": {},
     "output_type": "display_data"
    },
    {
     "name": "stdout",
     "output_type": "stream",
     "text": [
      "{'expert_encoder_loss': Array(5.428075, dtype=float32), 'loss': Array(-4.2200117, dtype=float32), 'not_distance': Array(1.2080631, dtype=float32)}\n"
     ]
    }
   ],
   "source": [
    "for i in range(10):\n",
    "    target_test_data = agent_target_ds.sample(32)\n",
    "    expert_test_data = expert_source_ds.sample(32)\n",
    "    agent, neural_dual, info = agent.pretrain_update(neural_dual, expert_test_data, target_test_data)\n",
    "    print(info)"
   ]
  },
  {
   "cell_type": "code",
   "execution_count": null,
   "metadata": {},
   "outputs": [],
   "source": []
  }
 ],
 "metadata": {
  "kernelspec": {
   "display_name": "torch",
   "language": "python",
   "name": "python3"
  },
  "language_info": {
   "codemirror_mode": {
    "name": "ipython",
    "version": 3
   },
   "file_extension": ".py",
   "mimetype": "text/x-python",
   "name": "python",
   "nbconvert_exporter": "python",
   "pygments_lexer": "ipython3",
   "version": "3.10.14"
  }
 },
 "nbformat": 4,
 "nbformat_minor": 2
}
