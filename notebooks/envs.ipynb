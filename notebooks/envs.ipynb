{
 "cells": [
  {
   "cell_type": "code",
   "execution_count": 2,
   "metadata": {},
   "outputs": [
    {
     "data": {
      "text/plain": [
       "(array([ 0.05479121, -0.01222431,  0.8217196 ,  0.99160886, -0.07742714,\n",
       "         0.09074426,  0.049823  ,  0.05721286, -0.07437728, -0.00992281,\n",
       "        -0.0258404 ,  0.08535299,  0.02877302,  0.06455232, -0.01131716,\n",
       "         1.3140707 ,  1.3140707 ,  1.3140707 ,  1.3140707 ,  1.3140707 ,\n",
       "         1.3140707 ,  1.3140707 ,  1.3140707 ,  1.3140707 ,  1.3140707 ,\n",
       "         1.3140707 ,  1.3140707 ,  1.3140707 ,  1.3140707 ,  0.        ],\n",
       "       dtype=float32),\n",
       " None)"
      ]
     },
     "execution_count": 2,
     "metadata": {},
     "output_type": "execute_result"
    }
   ],
   "source": [
    "import os\n",
    "import sys\n",
    "import matplotlib.pyplot as plt\n",
    "import numpy as np\n",
    "\n",
    "sys.path.append(\"..\")\n",
    "\n",
    "os.environ['MUJOCO_GL']='egl'\n",
    "\n",
    "%load_ext autoreload\n",
    "%autoreload 2\n",
    "\n",
    "from envs.maze_envs import CustomPointUMazeSize3Env, CustomAntUMazeSize3Env\n",
    "source_env = CustomPointUMazeSize3Env()\n",
    "target_env = CustomAntUMazeSize3Env()\n",
    "\n",
    "source_env.reset(42, None)\n",
    "target_env.reset(42, None)"
   ]
  },
  {
   "cell_type": "code",
   "execution_count": 3,
   "metadata": {},
   "outputs": [],
   "source": [
    "## Source PointUMaze; Target AntUMaze\n",
    "\n",
    "expert_source = np.load(\"/home/m_bobrin/CrossDomainIL/outputs/2024-04-04/21-13-01/saved_expert/trained_expert.npy\", allow_pickle=True).item()\n",
    "random_source = np.load(\"/home/m_bobrin/CrossDomainIL/outputs/2024-04-04/21-13-01/saved_prior/random_policy.npy\", allow_pickle=True).item()\n",
    "random_target = np.load(\"/home/m_bobrin/CrossDomainIL/outputs/2024-04-04/21-43-22/saved_prior/random_policy.npy\", allow_pickle=True).item()"
   ]
  },
  {
   "cell_type": "code",
   "execution_count": 9,
   "metadata": {},
   "outputs": [
    {
     "data": {
      "text/plain": [
       "(-0.5, 479.5, 479.5, -0.5)"
      ]
     },
     "execution_count": 9,
     "metadata": {},
     "output_type": "execute_result"
    },
    {
     "data": {
      "image/png": "[encoded data removed]",
      "text/plain": [
       "<Figure size 640x480 with 2 Axes>"
      ]
     },
     "metadata": {},
     "output_type": "display_data"
    }
   ],
   "source": [
    "fig, axs = plt.subplots(1, 2, sharex=True, sharey=True)\n",
    "source_env.wrapped_env.set_xy(expert_source['observations'][80, :2])\n",
    "target_env.wrapped_env.set_xy(random_target['observations'][100, :2])\n",
    "axs[0].imshow(source_env.render('rgb_array'))\n",
    "axs[1].imshow(target_env.render('rgb_array'))\n",
    "\n",
    "axs[0].axis('off')\n",
    "axs[1].axis('off')"
   ]
  },
  {
   "cell_type": "code",
   "execution_count": 12,
   "metadata": {},
   "outputs": [],
   "source": [
    "from networks.common import MLP\n",
    "import jax.numpy as jnp\n",
    "from flax.training import train_state\n",
    "\n",
    "class TrainState(train_state.TrainState):\n",
    "    @classmethod\n",
    "    def create(cls, model_def, inputs, apply_fn, params, tx, **kwargs):\n",
    "        \"\"\"Creates a new instance with ``step=0`` and initialized ``opt_state``.\"\"\"\n",
    "        # We exclude OWG params when present because they do not need opt states.\n",
    "        variables = model_def.init(*inputs)\n",
    "        params = variables.pop('params')\n",
    "        opt_state = tx.init(params)\n",
    "        return cls(\n",
    "            step=0,\n",
    "            apply_fn=apply_fn,\n",
    "            params=params,\n",
    "            tx=tx,\n",
    "            opt_state=opt_state,\n",
    "            **kwargs,\n",
    "        )\n",
    "        \n",
    "\n",
    "encoder_def1 = MLP(hidden_dims=[32, 16, 8, 2])\n",
    "encoder_def2 = MLP(hidden_dims=[32, 16, 8, 2])\n",
    "\n",
    "\n",
    "state_encoder1 = TrainState(\n",
    "    apply_fn=encoder_def1.apply,\n",
    "    params=\n",
    ")"
   ]
  },
  {
   "cell_type": "code",
   "execution_count": null,
   "metadata": {},
   "outputs": [],
   "source": []
  },
  {
   "cell_type": "code",
   "execution_count": null,
   "metadata": {},
   "outputs": [],
   "source": []
  },
  {
   "cell_type": "code",
   "execution_count": null,
   "metadata": {},
   "outputs": [],
   "source": []
  }
 ],
 "metadata": {
  "kernelspec": {
   "display_name": "torch",
   "language": "python",
   "name": "python3"
  },
  "language_info": {
   "codemirror_mode": {
    "name": "ipython",
    "version": 3
   },
   "file_extension": ".py",
   "mimetype": "text/x-python",
   "name": "python",
   "nbconvert_exporter": "python",
   "pygments_lexer": "ipython3",
   "version": "3.10.14"
  }
 },
 "nbformat": 4,
 "nbformat_minor": 2
}
