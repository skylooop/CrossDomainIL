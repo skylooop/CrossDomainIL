{
 "cells": [
  {
   "cell_type": "code",
   "execution_count": 1,
   "metadata": {},
   "outputs": [
    {
     "data": {
      "text/plain": [
       "(array([ 0.05479121, -0.01222431,  0.8217196 ,  0.99160886, -0.07742714,\n",
       "         0.09074426,  0.049823  ,  0.05721286, -0.07437728, -0.00992281,\n",
       "        -0.0258404 ,  0.08535299,  0.02877302,  0.06455232, -0.01131716,\n",
       "         1.3140707 ,  1.3140707 ,  1.3140707 ,  1.3140707 ,  1.3140707 ,\n",
       "         1.3140707 ,  1.3140707 ,  1.3140707 ,  1.3140707 ,  1.3140707 ,\n",
       "         1.3140707 ,  1.3140707 ,  1.3140707 ,  1.3140707 ,  0.        ],\n",
       "       dtype=float32),\n",
       " None)"
      ]
     },
     "execution_count": 1,
     "metadata": {},
     "output_type": "execute_result"
    }
   ],
   "source": [
    "import os\n",
    "import sys\n",
    "import matplotlib.pyplot as plt\n",
    "import numpy as np\n",
    "\n",
    "sys.path.append(\"..\")\n",
    "\n",
    "os.environ['CUDA_VISIBLE_DEVICES']='0'\n",
    "os.environ['MUJOCO_GL']='egl'\n",
    "\n",
    "%load_ext autoreload\n",
    "%autoreload 2\n",
    "\n",
    "from envs.maze_envs import CustomPointUMazeSize3Env, CustomAntUMazeSize3Env\n",
    "source_env = CustomPointUMazeSize3Env()\n",
    "target_env = CustomAntUMazeSize3Env()\n",
    "\n",
    "source_env.reset(42, None)\n",
    "target_env.reset(42, None)"
   ]
  },
  {
   "cell_type": "code",
   "execution_count": 2,
   "metadata": {},
   "outputs": [
    {
     "name": "stdout",
     "output_type": "stream",
     "text": [
      "(7,)\n",
      "(30,)\n"
     ]
    }
   ],
   "source": [
    "print(source_env.observation_space.shape)\n",
    "print(target_env.observation_space.shape)"
   ]
  },
  {
   "cell_type": "code",
   "execution_count": 3,
   "metadata": {},
   "outputs": [],
   "source": [
    "## Source PointUMaze; Target AntUMaze\n",
    "from datasets.dataset import Dataset\n",
    "\n",
    "expert_source = np.load(\"../outputs/2024-04-04/21-13-01/saved_expert/trained_expert.npy\", allow_pickle=True).item()\n",
    "random_source = np.load(\"../outputs/2024-04-04/21-13-01/saved_prior/random_policy.npy\", allow_pickle=True).item()\n",
    "random_target = np.load(\"../outputs/2024-04-04/21-43-22/saved_prior/random_policy.npy\", allow_pickle=True).item()\n",
    "\n",
    "expert_source_ds = Dataset(observations=expert_source['observations'],\n",
    "                           actions=expert_source['actions'],\n",
    "                           rewards=expert_source['rewards'],\n",
    "                           dones_float=expert_source['dones'],\n",
    "                           masks=1.0 - expert_source['dones'],\n",
    "                           next_observations=expert_source['next_observations'],\n",
    "                           size=expert_source['observations'].shape[0])\n",
    "\n",
    "non_expert_source_ds = Dataset(observations=random_source['observations'],\n",
    "                           actions=random_source['actions'],\n",
    "                           rewards=random_source['rewards'],\n",
    "                           dones_float=random_source['dones'],\n",
    "                           masks=1.0 - random_source['dones'],\n",
    "                           next_observations=random_source['next_observations'],\n",
    "                           size=random_source['observations'].shape[0])\n",
    "\n",
    "agent_target_ds = Dataset(observations=random_target['observations'],\n",
    "                           actions=random_target['actions'],\n",
    "                           rewards=random_target['rewards'],\n",
    "                           dones_float=random_target['dones'],\n",
    "                           masks=1.0 - random_target['dones'],\n",
    "                           next_observations=random_target['next_observations'],\n",
    "                           size=random_target['observations'].shape[0])"
   ]
  },
  {
   "cell_type": "code",
   "execution_count": 4,
   "metadata": {},
   "outputs": [
    {
     "data": {
      "text/plain": [
       "(-0.5, 479.5, 479.5, -0.5)"
      ]
     },
     "execution_count": 4,
     "metadata": {},
     "output_type": "execute_result"
    },
    {
     "data": {
      "image/png": "[encoded data removed]",
      "text/plain": [
       "<Figure size 640x480 with 2 Axes>"
      ]
     },
     "metadata": {},
     "output_type": "display_data"
    }
   ],
   "source": [
    "fig, axs = plt.subplots(1, 2, sharex=True, sharey=True)\n",
    "source_env.wrapped_env.set_xy(expert_source['observations'][30, :2])\n",
    "target_env.wrapped_env.set_xy(random_target['observations'][500, :2])\n",
    "axs[0].imshow(source_env.render('rgb_array'))\n",
    "axs[1].imshow(target_env.render('rgb_array'))\n",
    "\n",
    "axs[0].axis('off')\n",
    "axs[1].axis('off')"
   ]
  },
  {
   "cell_type": "code",
   "execution_count": 5,
   "metadata": {},
   "outputs": [],
   "source": [
    "from ott.neural.solvers.neuraldual import W2NeuralDual\n",
    "import jax.numpy as jnp\n",
    "import jax\n",
    "from ott.geometry import costs\n",
    "from ott.problems.linear import potentials\n",
    "\n",
    "class W2NeuralDualCustom(W2NeuralDual):\n",
    "    def __init__(self, *args, **kwargs):\n",
    "        super().__init__(*args, **kwargs)\n",
    "        self.back_and_forth = True\n",
    "        self.step = 0\n",
    "    \n",
    "    def update(self, batch_agent, batch_expert):\n",
    "\n",
    "        update_forward = not self.back_and_forth or self.step % 2 == 0\n",
    "        train_batch = {}\n",
    "\n",
    "        if update_forward:\n",
    "            train_batch[\"source\"] = batch_agent\n",
    "            train_batch[\"target\"] = batch_expert\n",
    "            (self.state_f, self.state_g, loss, loss_f, loss_g, w_dist) = self.train_step_parallel(\n",
    "                self.state_f,\n",
    "                self.state_g,\n",
    "                train_batch,\n",
    "            )\n",
    "        else:\n",
    "            train_batch[\"target\"] = batch_agent\n",
    "            train_batch[\"source\"] = batch_expert\n",
    "            (self.state_g, self.state_f, loss, loss_f, loss_g, w_dist) = self.train_step_parallel(\n",
    "                self.state_g,\n",
    "                self.state_f,\n",
    "                train_batch,\n",
    "            )\n",
    "\n",
    "        self.step += 1\n",
    "       \n",
    "        return self, loss, w_dist"
   ]
  },
  {
   "cell_type": "code",
   "execution_count": 6,
   "metadata": {},
   "outputs": [],
   "source": [
    "import jax\n",
    "from networks.common import MLP, Model, LayerNormMLP, TrainState\n",
    "import jax.numpy as jnp\n",
    "import optax\n",
    "import flax.linen as nn\n",
    "from flax.struct import PyTreeNode\n",
    "from typing import Sequence, Dict\n",
    "from ott.neural.solvers.neuraldual import W2NeuralDual\n",
    "from ott.neural import models\n",
    "\n",
    "class Encoders(nn.Module):\n",
    "    encoders: Dict[str, nn.Module]\n",
    "    \n",
    "    def encode_expert(self, expert_states):\n",
    "        return self.encoders['expert_encoder'](expert_states)\n",
    "    \n",
    "    def encode_agent(self, agent_states):\n",
    "        return self.encoders['agent_encoder'](agent_states)\n",
    "    \n",
    "    def __call__(self, agent_obs, expert_obs):\n",
    "        rets = {\n",
    "            \"encoded_agent\": self.encode_agent(agent_obs),\n",
    "            \"encoded_expert\": self.encode_expert(expert_obs)\n",
    "        }\n",
    "        return rets\n",
    "\n",
    "class JointAgent:\n",
    "\n",
    "    def __init__(\n",
    "        self,\n",
    "        encoder_agent: nn.Module,\n",
    "        encoder_expert: nn.Module,\n",
    "        agent_dim: int,\n",
    "        expert_dim: int,\n",
    "        embed_dim: int,\n",
    "        neural_f: nn.Module,\n",
    "        neural_g: nn.Module,\n",
    "        optimizer_f,\n",
    "        optimizer_g,\n",
    "        expert_loss_coef: float = 0.5,\n",
    "        learning_rate: float = 1e-4,\n",
    "        rng = jax.random.PRNGKey(42)) -> None:\n",
    "\n",
    "        self.expert_loss_coef = expert_loss_coef\n",
    "\n",
    "        encoders = Encoders({\n",
    "            'agent_encoder': encoder_agent,\n",
    "            'expert_encoder': encoder_expert\n",
    "        })\n",
    "\n",
    "        self.encoders_state = TrainState.create(\n",
    "            model_def=encoders,\n",
    "            params=encoders.init(rng, jnp.ones(agent_dim), jnp.ones(expert_dim))['params'],\n",
    "            tx=optax.adam(learning_rate=learning_rate)\n",
    "        )\n",
    "\n",
    "        self.neural_dual_elements = W2NeuralDualCustom(\n",
    "            dim_data=embed_dim, \n",
    "            neural_f=neural_f,\n",
    "            neural_g=neural_g,\n",
    "            optimizer_f=optimizer_f,\n",
    "            optimizer_g=optimizer_g,\n",
    "            num_train_iters=20000\n",
    "        )\n",
    "\n",
    "        self.neural_dual_pairs = W2NeuralDualCustom(\n",
    "            dim_data=embed_dim * 2, \n",
    "            neural_f=neural_f,\n",
    "            neural_g=neural_g,\n",
    "            optimizer_f=optimizer_f,\n",
    "            optimizer_g=optimizer_g,\n",
    "            num_train_iters=20000\n",
    "        )\n",
    "\n",
    "    @staticmethod\n",
    "    def ot_distance_elements(learned_potentials, x, y):\n",
    "        return learned_potentials.distance(x, y)\n",
    "    \n",
    "    @staticmethod\n",
    "    def ot_distance_pairs(learned_potentials, x, y, x_next, y_next):\n",
    "        x_pair = jnp.concatenate([x, x_next], axis=-1)\n",
    "        y_pair = jnp.concatenate([y, y_next], axis=-1)\n",
    "\n",
    "        return learned_potentials.distance(x_pair, y_pair)\n",
    "    \n",
    "    @staticmethod\n",
    "    def compute_expert_encoder_loss(learned_potentials, y, y_next): # maximize target potential g w.r.t encoder\n",
    "        y_pair = jnp.concatenate([y, y_next], axis=-1)\n",
    "        g_value = jax.vmap(learned_potentials.g)(y_pair)\n",
    "        return jnp.mean((y_pair ** 2).sum(-1)) - 2 * jnp.mean(g_value)\n",
    "    \n",
    "    @staticmethod\n",
    "    def encoders_loss(potentials_elem, potentials_pairs, sa, se, sn, sa_next, se_next, sn_next, expert_loss_coef):\n",
    "        \n",
    "        loss_elem = JointAgent.ot_distance_elements(\n",
    "            potentials_elem, \n",
    "            jnp.concatenate([sa, sa], axis=0), \n",
    "            jnp.concatenate([se, sn], axis=0), \n",
    "        )\n",
    "        loss_pairs = JointAgent.ot_distance_pairs(potentials_pairs, sn, se, sn_next, se_next)\n",
    "        # expert_enc_loss = JointAgent.compute_expert_encoder_loss(potentials_pairs, y, y_next)\n",
    "        \n",
    "        loss = loss_elem - loss_pairs * expert_loss_coef\n",
    "\n",
    "        return loss, loss_elem, loss_pairs\n",
    "        \n",
    "    def optimize_not(self, batch_agent, batch_expert, random_data):\n",
    "        \n",
    "        @jax.jit\n",
    "        def compute_embeds(encoders, batch_agent, batch_expert, random_data):\n",
    "            se = encoders(batch_expert.observations, method='encode_expert')\n",
    "            se_next = encoders(batch_expert.next_observations, method='encode_expert')\n",
    "            sn = encoders(random_data.observations, method='encode_expert')\n",
    "            sn_next = encoders(random_data.next_observations, method='encode_expert')\n",
    "            sa = encoders(batch_agent.observations, method='encode_agent')\n",
    "            sa_next = encoders(batch_agent.next_observations, method='encode_agent')\n",
    "\n",
    "            sa_pairs = jnp.concatenate([sa, sa_next], axis=-1)\n",
    "            se_pairs = jnp.concatenate([se, se_next], axis=-1)\n",
    "            sn_pairs = jnp.concatenate([sn, sn_next], axis=-1)\n",
    "\n",
    "            return  sa, se, sn, sa_pairs, se_pairs, sn_pairs\n",
    "        \n",
    "        sa, se, sn, sa_pairs, se_pairs, sn_pairs = compute_embeds(self.encoders_state, batch_agent, batch_expert, random_data)\n",
    "\n",
    "        _, loss_elem, w_dist_elem = self.neural_dual_elements.update(np.concatenate([sa, sa]), np.concatenate([se, sn]))\n",
    "        _, loss_pairs, w_dist_pairs = self.neural_dual_pairs.update(np.concatenate([sa_pairs, sn_pairs]), np.concatenate([se_pairs, se_pairs]))\n",
    "        \n",
    "        return loss_elem, loss_pairs, w_dist_elem, w_dist_pairs\n",
    "    \n",
    "    def optimize_encoders(self, batch_agent, batch_expert, random_data):\n",
    "\n",
    "        @jax.jit\n",
    "        def update_step(potentials_elem, potentials_pairs, encoders, batch_agent, batch_expert, random_data):\n",
    "\n",
    "            def loss_fn(params):\n",
    "\n",
    "                se = encoders(batch_expert.observations, params=params, method='encode_expert')\n",
    "                se_next = encoders(batch_expert.next_observations, params=params, method='encode_expert')\n",
    "                sa = encoders(batch_agent.observations, params=params, method='encode_agent')\n",
    "                sa_next = encoders(batch_agent.next_observations, params=params, method='encode_agent')\n",
    "                sn = encoders(random_data.observations, method='encode_expert')\n",
    "                sn_next = encoders(random_data.next_observations, method='encode_expert')\n",
    "\n",
    "                loss, not_loss, expert_enc_loss = JointAgent.encoders_loss(potentials_elem, potentials_pairs, sa, se, sn, sa_next, se_next, sn_next, self.expert_loss_coef)\n",
    "\n",
    "                return loss, {'loss': loss,\n",
    "                            'not_distance': not_loss,\n",
    "                            'expert_encoder_loss': expert_enc_loss}\n",
    "            \n",
    "            new_encoders, info = encoders.apply_loss_fn(loss_fn=loss_fn, has_aux=True)\n",
    "\n",
    "            return new_encoders, info\n",
    "        \n",
    "        potentials_elem = self.neural_dual_elements.to_dual_potentials()\n",
    "        potentials_pairs = self.neural_dual_pairs.to_dual_potentials()\n",
    "\n",
    "        self.encoders_state, info = update_step(\n",
    "            potentials_elem, potentials_pairs, self.encoders_state, batch_agent, batch_expert, random_data\n",
    "        )\n",
    "        \n",
    "        return info"
   ]
  },
  {
   "cell_type": "code",
   "execution_count": 7,
   "metadata": {},
   "outputs": [],
   "source": [
    "rng = jax.random.PRNGKey(42)\n",
    "\n",
    "enc1_key, enc2_key = jax.random.split(rng, 2)\n",
    "\n",
    "hidden_dims = [32, 16, 8, 2]\n",
    "encoder_expert = LayerNormMLP(hidden_dims=hidden_dims)\n",
    "encoder_agent = LayerNormMLP(hidden_dims=hidden_dims)\n",
    "\n",
    "\n",
    "neural_f = models.MLP(\n",
    "    dim_hidden=[32, 32, 32, 32],\n",
    "    is_potential=True,\n",
    ")\n",
    "neural_g = models.MLP(\n",
    "    dim_hidden=[32, 32, 32, 32],\n",
    "    is_potential=True,\n",
    ")\n",
    "# lr_schedule = optax.cosine_decay_schedule(\n",
    "#     init_value=1e-4, decay_steps=5, alpha=1e-2\n",
    "# )\n",
    "optimizer_f = optax.adam(learning_rate=3e-4, b1=0.9, b2=0.99)\n",
    "optimizer_g = optimizer_f\n",
    "\n",
    "agent = JointAgent(\n",
    "    encoder_agent, \n",
    "    encoder_expert, \n",
    "    target_env.observation_space.shape[0], \n",
    "    source_env.observation_space.shape[0],\n",
    "    hidden_dims[-1],\n",
    "    neural_f,\n",
    "    neural_g,\n",
    "    optimizer_f,\n",
    "    optimizer_g)"
   ]
  },
  {
   "cell_type": "code",
   "execution_count": 8,
   "metadata": {},
   "outputs": [],
   "source": [
    "from ott.tools import sinkhorn_divergence\n",
    "from ott.geometry import pointcloud\n",
    "\n",
    "@jax.jit\n",
    "def sinkhorn_loss(\n",
    "    x: jnp.ndarray, y: jnp.ndarray, epsilon: float = 0.001\n",
    ") -> float:\n",
    "    \"\"\"Computes transport between (x, a) and (y, b) via Sinkhorn algorithm.\"\"\"\n",
    "    a = jnp.ones(len(x)) / len(x)\n",
    "    b = jnp.ones(len(y)) / len(y)\n",
    "\n",
    "    sdiv = sinkhorn_divergence.sinkhorn_divergence(\n",
    "        pointcloud.PointCloud, x, y, epsilon=epsilon, a=a, b=b\n",
    "    )\n",
    "    return sdiv.divergence\n"
   ]
  },
  {
   "cell_type": "code",
   "execution_count": 9,
   "metadata": {},
   "outputs": [
    {
     "name": "stderr",
     "output_type": "stream",
     "text": [
      "  0%|          | 0/500 [00:00<?, ?it/s]"
     ]
    },
    {
     "name": "stderr",
     "output_type": "stream",
     "text": [
      "  0%|          | 1/500 [00:08<1:07:37,  8.13s/it]"
     ]
    },
    {
     "name": "stdout",
     "output_type": "stream",
     "text": [
      "4.196098 9.081412 0.12003708 -0.09985733 2.0026717\n"
     ]
    },
    {
     "name": "stderr",
     "output_type": "stream",
     "text": [
      " 20%|██        | 101/500 [01:09<04:07,  1.61it/s]"
     ]
    },
    {
     "name": "stdout",
     "output_type": "stream",
     "text": [
      "3.9369578 8.7266655 0.9347353 0.8147793 1.9503334\n"
     ]
    },
    {
     "name": "stderr",
     "output_type": "stream",
     "text": [
      " 40%|████      | 201/500 [02:07<03:05,  1.61it/s]"
     ]
    },
    {
     "name": "stdout",
     "output_type": "stream",
     "text": [
      "3.8774264 8.276204 1.3412471 1.9616547 1.8934448\n"
     ]
    },
    {
     "name": "stderr",
     "output_type": "stream",
     "text": [
      " 60%|██████    | 301/500 [03:06<02:02,  1.62it/s]"
     ]
    },
    {
     "name": "stdout",
     "output_type": "stream",
     "text": [
      "3.2651908 7.8054543 2.3749843 2.7123718 2.474681\n"
     ]
    },
    {
     "name": "stderr",
     "output_type": "stream",
     "text": [
      " 80%|████████  | 401/500 [04:04<01:01,  1.61it/s]"
     ]
    },
    {
     "name": "stdout",
     "output_type": "stream",
     "text": [
      "3.4729776 7.9647675 1.6507487 2.325324 1.7222248\n"
     ]
    },
    {
     "name": "stderr",
     "output_type": "stream",
     "text": [
      "100%|██████████| 500/500 [05:02<00:00,  1.65it/s]\n"
     ]
    }
   ],
   "source": [
    "from tqdm import tqdm\n",
    "\n",
    "for i in tqdm(range(500)):\n",
    "    agent_data = agent_target_ds.sample(256)\n",
    "    expert_data = expert_source_ds.sample(256)\n",
    "    random_data = non_expert_source_ds.sample(256)\n",
    "    loss_elem, loss_pairs, w_dist_elem, w_dist_pairs = agent.optimize_not(agent_data, expert_data, random_data)\n",
    "\n",
    "    if i % 100 == 0:\n",
    "        se = agent.encoders_state(expert_data.observations, method='encode_expert')\n",
    "        sa = agent.encoders_state(agent_data.observations, method='encode_agent')\n",
    "        sink = sinkhorn_loss(sa, se)\n",
    "        print(loss_elem, loss_pairs, w_dist_elem, w_dist_pairs, sink)\n"
   ]
  },
  {
   "cell_type": "code",
   "execution_count": 10,
   "metadata": {},
   "outputs": [
    {
     "name": "stdout",
     "output_type": "stream",
     "text": [
      "{'expert_encoder_loss': Array(0.28620052, dtype=float32), 'loss': Array(1.9814029, dtype=float32), 'not_distance': Array(2.1245031, dtype=float32)}\n",
      "3.3781705 7.8695583 2.122882 2.6281319 2.140538\n",
      "\n",
      "{'expert_encoder_loss': Array(1.2595339, dtype=float32), 'loss': Array(1.0656416, dtype=float32), 'not_distance': Array(1.6954086, dtype=float32)}\n",
      "3.4194205 7.507419 1.6944828 3.2965202 1.9885926\n",
      "\n",
      "{'expert_encoder_loss': Array(0.88453484, dtype=float32), 'loss': Array(1.0559063, dtype=float32), 'not_distance': Array(1.4981737, dtype=float32)}\n",
      "3.5358453 7.595205 1.4988475 3.1004276 1.8006634\n",
      "\n",
      "{'expert_encoder_loss': Array(1.2663383, dtype=float32), 'loss': Array(0.6307092, dtype=float32), 'not_distance': Array(1.2638783, dtype=float32)}\n",
      "3.6639357 7.50235 1.2646646 3.2027388 1.6821771\n",
      "\n",
      "{'expert_encoder_loss': Array(1.7316923, dtype=float32), 'loss': Array(0.237952, dtype=float32), 'not_distance': Array(1.1037982, dtype=float32)}\n",
      "3.6976972 7.50673 1.102365 3.4211273 1.7009516\n",
      "\n",
      "{'expert_encoder_loss': Array(1.9338121, dtype=float32), 'loss': Array(0.25459003, dtype=float32), 'not_distance': Array(1.2214961, dtype=float32)}\n",
      "3.6209729 7.4362993 1.2182407 3.7704878 1.8921762\n",
      "\n"
     ]
    },
    {
     "ename": "KeyboardInterrupt",
     "evalue": "",
     "output_type": "error",
     "traceback": [
      "\u001b[0;31m---------------------------------------------------------------------------\u001b[0m",
      "\u001b[0;31mKeyboardInterrupt\u001b[0m                         Traceback (most recent call last)",
      "Cell \u001b[0;32mIn[10], line 7\u001b[0m\n\u001b[1;32m      5\u001b[0m loss_elem, loss_pairs, w_dist_elem, w_dist_pairs \u001b[38;5;241m=\u001b[39m agent\u001b[38;5;241m.\u001b[39moptimize_not(agent_data, expert_data, random_data)\n\u001b[1;32m      6\u001b[0m \u001b[38;5;28;01mif\u001b[39;00m i \u001b[38;5;241m%\u001b[39m \u001b[38;5;241m5\u001b[39m \u001b[38;5;241m==\u001b[39m \u001b[38;5;241m0\u001b[39m:\n\u001b[0;32m----> 7\u001b[0m     info \u001b[38;5;241m=\u001b[39m \u001b[43magent\u001b[49m\u001b[38;5;241;43m.\u001b[39;49m\u001b[43moptimize_encoders\u001b[49m\u001b[43m(\u001b[49m\u001b[43magent_data\u001b[49m\u001b[43m,\u001b[49m\u001b[43m \u001b[49m\u001b[43mexpert_data\u001b[49m\u001b[43m,\u001b[49m\u001b[43m \u001b[49m\u001b[43mrandom_data\u001b[49m\u001b[43m)\u001b[49m\n\u001b[1;32m      8\u001b[0m \u001b[38;5;28;01mif\u001b[39;00m i \u001b[38;5;241m%\u001b[39m \u001b[38;5;241m50\u001b[39m \u001b[38;5;241m==\u001b[39m \u001b[38;5;241m0\u001b[39m:\n\u001b[1;32m      9\u001b[0m     \u001b[38;5;28mprint\u001b[39m(info)\n",
      "Cell \u001b[0;32mIn[6], line 158\u001b[0m, in \u001b[0;36mJointAgent.optimize_encoders\u001b[0;34m(self, batch_agent, batch_expert, random_data)\u001b[0m\n\u001b[1;32m    155\u001b[0m potentials_elem \u001b[38;5;241m=\u001b[39m \u001b[38;5;28mself\u001b[39m\u001b[38;5;241m.\u001b[39mneural_dual_elements\u001b[38;5;241m.\u001b[39mto_dual_potentials()\n\u001b[1;32m    156\u001b[0m potentials_pairs \u001b[38;5;241m=\u001b[39m \u001b[38;5;28mself\u001b[39m\u001b[38;5;241m.\u001b[39mneural_dual_pairs\u001b[38;5;241m.\u001b[39mto_dual_potentials()\n\u001b[0;32m--> 158\u001b[0m \u001b[38;5;28mself\u001b[39m\u001b[38;5;241m.\u001b[39mencoders_state, info \u001b[38;5;241m=\u001b[39m \u001b[43mupdate_step\u001b[49m\u001b[43m(\u001b[49m\n\u001b[1;32m    159\u001b[0m \u001b[43m    \u001b[49m\u001b[43mpotentials_elem\u001b[49m\u001b[43m,\u001b[49m\u001b[43m \u001b[49m\u001b[43mpotentials_pairs\u001b[49m\u001b[43m,\u001b[49m\u001b[43m \u001b[49m\u001b[38;5;28;43mself\u001b[39;49m\u001b[38;5;241;43m.\u001b[39;49m\u001b[43mencoders_state\u001b[49m\u001b[43m,\u001b[49m\u001b[43m \u001b[49m\u001b[43mbatch_agent\u001b[49m\u001b[43m,\u001b[49m\u001b[43m \u001b[49m\u001b[43mbatch_expert\u001b[49m\u001b[43m,\u001b[49m\u001b[43m \u001b[49m\u001b[43mrandom_data\u001b[49m\n\u001b[1;32m    160\u001b[0m \u001b[43m\u001b[49m\u001b[43m)\u001b[49m\n\u001b[1;32m    162\u001b[0m \u001b[38;5;28;01mreturn\u001b[39;00m info\n",
      "    \u001b[0;31m[... skipping hidden 1 frame]\u001b[0m\n",
      "File \u001b[0;32m~/anaconda3/envs/jax/lib/python3.10/site-packages/jax/_src/pjit.py:255\u001b[0m, in \u001b[0;36m_cpp_pjit.<locals>.cache_miss\u001b[0;34m(*args, **kwargs)\u001b[0m\n\u001b[1;32m    253\u001b[0m \u001b[38;5;129m@api_boundary\u001b[39m\n\u001b[1;32m    254\u001b[0m \u001b[38;5;28;01mdef\u001b[39;00m \u001b[38;5;21mcache_miss\u001b[39m(\u001b[38;5;241m*\u001b[39margs, \u001b[38;5;241m*\u001b[39m\u001b[38;5;241m*\u001b[39mkwargs):\n\u001b[0;32m--> 255\u001b[0m   outs, out_flat, out_tree, args_flat, jaxpr \u001b[38;5;241m=\u001b[39m \u001b[43m_python_pjit_helper\u001b[49m\u001b[43m(\u001b[49m\n\u001b[1;32m    256\u001b[0m \u001b[43m      \u001b[49m\u001b[43mfun\u001b[49m\u001b[43m,\u001b[49m\u001b[43m \u001b[49m\u001b[43minfer_params_fn\u001b[49m\u001b[43m,\u001b[49m\u001b[43m \u001b[49m\u001b[38;5;241;43m*\u001b[39;49m\u001b[43margs\u001b[49m\u001b[43m,\u001b[49m\u001b[43m \u001b[49m\u001b[38;5;241;43m*\u001b[39;49m\u001b[38;5;241;43m*\u001b[39;49m\u001b[43mkwargs\u001b[49m\u001b[43m)\u001b[49m\n\u001b[1;32m    257\u001b[0m   executable \u001b[38;5;241m=\u001b[39m _read_most_recent_pjit_call_executable(jaxpr)\n\u001b[1;32m    258\u001b[0m   fastpath_data \u001b[38;5;241m=\u001b[39m _get_fastpath_data(executable, out_tree, args_flat, out_flat)\n",
      "File \u001b[0;32m~/anaconda3/envs/jax/lib/python3.10/site-packages/jax/_src/pjit.py:166\u001b[0m, in \u001b[0;36m_python_pjit_helper\u001b[0;34m(fun, infer_params_fn, *args, **kwargs)\u001b[0m\n\u001b[1;32m    164\u001b[0m   dispatch\u001b[38;5;241m.\u001b[39mcheck_arg(arg)\n\u001b[1;32m    165\u001b[0m \u001b[38;5;28;01mtry\u001b[39;00m:\n\u001b[0;32m--> 166\u001b[0m   out_flat \u001b[38;5;241m=\u001b[39m \u001b[43mpjit_p\u001b[49m\u001b[38;5;241;43m.\u001b[39;49m\u001b[43mbind\u001b[49m\u001b[43m(\u001b[49m\u001b[38;5;241;43m*\u001b[39;49m\u001b[43margs_flat\u001b[49m\u001b[43m,\u001b[49m\u001b[43m \u001b[49m\u001b[38;5;241;43m*\u001b[39;49m\u001b[38;5;241;43m*\u001b[39;49m\u001b[43mparams\u001b[49m\u001b[43m)\u001b[49m\n\u001b[1;32m    167\u001b[0m \u001b[38;5;28;01mexcept\u001b[39;00m pxla\u001b[38;5;241m.\u001b[39mDeviceAssignmentMismatchError \u001b[38;5;28;01mas\u001b[39;00m e:\n\u001b[1;32m    168\u001b[0m   fails, \u001b[38;5;241m=\u001b[39m e\u001b[38;5;241m.\u001b[39margs\n",
      "File \u001b[0;32m~/anaconda3/envs/jax/lib/python3.10/site-packages/jax/_src/core.py:2682\u001b[0m, in \u001b[0;36mAxisPrimitive.bind\u001b[0;34m(self, *args, **params)\u001b[0m\n\u001b[1;32m   2678\u001b[0m axis_main \u001b[38;5;241m=\u001b[39m \u001b[38;5;28mmax\u001b[39m((axis_frame(a)\u001b[38;5;241m.\u001b[39mmain_trace \u001b[38;5;28;01mfor\u001b[39;00m a \u001b[38;5;129;01min\u001b[39;00m used_axis_names(\u001b[38;5;28mself\u001b[39m, params)),\n\u001b[1;32m   2679\u001b[0m                 default\u001b[38;5;241m=\u001b[39m\u001b[38;5;28;01mNone\u001b[39;00m, key\u001b[38;5;241m=\u001b[39m\u001b[38;5;28;01mlambda\u001b[39;00m t: \u001b[38;5;28mgetattr\u001b[39m(t, \u001b[38;5;124m'\u001b[39m\u001b[38;5;124mlevel\u001b[39m\u001b[38;5;124m'\u001b[39m, \u001b[38;5;241m-\u001b[39m\u001b[38;5;241m1\u001b[39m))\n\u001b[1;32m   2680\u001b[0m top_trace \u001b[38;5;241m=\u001b[39m (top_trace \u001b[38;5;28;01mif\u001b[39;00m \u001b[38;5;129;01mnot\u001b[39;00m axis_main \u001b[38;5;129;01mor\u001b[39;00m axis_main\u001b[38;5;241m.\u001b[39mlevel \u001b[38;5;241m<\u001b[39m top_trace\u001b[38;5;241m.\u001b[39mlevel\n\u001b[1;32m   2681\u001b[0m              \u001b[38;5;28;01melse\u001b[39;00m axis_main\u001b[38;5;241m.\u001b[39mwith_cur_sublevel())\n\u001b[0;32m-> 2682\u001b[0m \u001b[38;5;28;01mreturn\u001b[39;00m \u001b[38;5;28;43mself\u001b[39;49m\u001b[38;5;241;43m.\u001b[39;49m\u001b[43mbind_with_trace\u001b[49m\u001b[43m(\u001b[49m\u001b[43mtop_trace\u001b[49m\u001b[43m,\u001b[49m\u001b[43m \u001b[49m\u001b[43margs\u001b[49m\u001b[43m,\u001b[49m\u001b[43m \u001b[49m\u001b[43mparams\u001b[49m\u001b[43m)\u001b[49m\n",
      "File \u001b[0;32m~/anaconda3/envs/jax/lib/python3.10/site-packages/jax/_src/core.py:405\u001b[0m, in \u001b[0;36mPrimitive.bind_with_trace\u001b[0;34m(self, trace, args, params)\u001b[0m\n\u001b[1;32m    404\u001b[0m \u001b[38;5;28;01mdef\u001b[39;00m \u001b[38;5;21mbind_with_trace\u001b[39m(\u001b[38;5;28mself\u001b[39m, trace, args, params):\n\u001b[0;32m--> 405\u001b[0m   out \u001b[38;5;241m=\u001b[39m \u001b[43mtrace\u001b[49m\u001b[38;5;241;43m.\u001b[39;49m\u001b[43mprocess_primitive\u001b[49m\u001b[43m(\u001b[49m\u001b[38;5;28;43mself\u001b[39;49m\u001b[43m,\u001b[49m\u001b[43m \u001b[49m\u001b[38;5;28;43mmap\u001b[39;49m\u001b[43m(\u001b[49m\u001b[43mtrace\u001b[49m\u001b[38;5;241;43m.\u001b[39;49m\u001b[43mfull_raise\u001b[49m\u001b[43m,\u001b[49m\u001b[43m \u001b[49m\u001b[43margs\u001b[49m\u001b[43m)\u001b[49m\u001b[43m,\u001b[49m\u001b[43m \u001b[49m\u001b[43mparams\u001b[49m\u001b[43m)\u001b[49m\n\u001b[1;32m    406\u001b[0m   \u001b[38;5;28;01mreturn\u001b[39;00m \u001b[38;5;28mmap\u001b[39m(full_lower, out) \u001b[38;5;28;01mif\u001b[39;00m \u001b[38;5;28mself\u001b[39m\u001b[38;5;241m.\u001b[39mmultiple_results \u001b[38;5;28;01melse\u001b[39;00m full_lower(out)\n",
      "File \u001b[0;32m~/anaconda3/envs/jax/lib/python3.10/site-packages/jax/_src/core.py:893\u001b[0m, in \u001b[0;36mEvalTrace.process_primitive\u001b[0;34m(self, primitive, tracers, params)\u001b[0m\n\u001b[1;32m    892\u001b[0m \u001b[38;5;28;01mdef\u001b[39;00m \u001b[38;5;21mprocess_primitive\u001b[39m(\u001b[38;5;28mself\u001b[39m, primitive, tracers, params):\n\u001b[0;32m--> 893\u001b[0m   \u001b[38;5;28;01mreturn\u001b[39;00m \u001b[43mprimitive\u001b[49m\u001b[38;5;241;43m.\u001b[39;49m\u001b[43mimpl\u001b[49m\u001b[43m(\u001b[49m\u001b[38;5;241;43m*\u001b[39;49m\u001b[43mtracers\u001b[49m\u001b[43m,\u001b[49m\u001b[43m \u001b[49m\u001b[38;5;241;43m*\u001b[39;49m\u001b[38;5;241;43m*\u001b[39;49m\u001b[43mparams\u001b[49m\u001b[43m)\u001b[49m\n",
      "File \u001b[0;32m~/anaconda3/envs/jax/lib/python3.10/site-packages/jax/_src/pjit.py:1238\u001b[0m, in \u001b[0;36m_pjit_call_impl\u001b[0;34m(jaxpr, in_shardings, out_shardings, resource_env, donated_invars, name, keep_unused, inline, *args)\u001b[0m\n\u001b[1;32m   1235\u001b[0m donated_argnums \u001b[38;5;241m=\u001b[39m [i \u001b[38;5;28;01mfor\u001b[39;00m i, d \u001b[38;5;129;01min\u001b[39;00m \u001b[38;5;28menumerate\u001b[39m(donated_invars) \u001b[38;5;28;01mif\u001b[39;00m d]\n\u001b[1;32m   1236\u001b[0m has_explicit_sharding \u001b[38;5;241m=\u001b[39m _pjit_explicit_sharding(\n\u001b[1;32m   1237\u001b[0m     in_shardings, out_shardings, \u001b[38;5;28;01mNone\u001b[39;00m, \u001b[38;5;28;01mNone\u001b[39;00m)\n\u001b[0;32m-> 1238\u001b[0m \u001b[38;5;28;01mreturn\u001b[39;00m \u001b[43mxc\u001b[49m\u001b[38;5;241;43m.\u001b[39;49m\u001b[43m_xla\u001b[49m\u001b[38;5;241;43m.\u001b[39;49m\u001b[43mpjit\u001b[49m\u001b[43m(\u001b[49m\u001b[43mname\u001b[49m\u001b[43m,\u001b[49m\u001b[43m \u001b[49m\u001b[43mf\u001b[49m\u001b[43m,\u001b[49m\u001b[43m \u001b[49m\u001b[43mcall_impl_cache_miss\u001b[49m\u001b[43m,\u001b[49m\u001b[43m \u001b[49m\u001b[43m[\u001b[49m\u001b[43m]\u001b[49m\u001b[43m,\u001b[49m\u001b[43m \u001b[49m\u001b[43m[\u001b[49m\u001b[43m]\u001b[49m\u001b[43m,\u001b[49m\u001b[43m \u001b[49m\u001b[43mdonated_argnums\u001b[49m\u001b[43m,\u001b[49m\n\u001b[1;32m   1239\u001b[0m \u001b[43m                    \u001b[49m\u001b[43mtree_util\u001b[49m\u001b[38;5;241;43m.\u001b[39;49m\u001b[43mdispatch_registry\u001b[49m\u001b[43m,\u001b[49m\n\u001b[1;32m   1240\u001b[0m \u001b[43m                    \u001b[49m\u001b[43m_get_cpp_global_cache\u001b[49m\u001b[43m(\u001b[49m\u001b[43mhas_explicit_sharding\u001b[49m\u001b[43m)\u001b[49m\u001b[43m)\u001b[49m\u001b[43m(\u001b[49m\u001b[38;5;241;43m*\u001b[39;49m\u001b[43margs\u001b[49m\u001b[43m)\u001b[49m\n",
      "File \u001b[0;32m~/anaconda3/envs/jax/lib/python3.10/site-packages/jax/_src/pjit.py:1222\u001b[0m, in \u001b[0;36m_pjit_call_impl.<locals>.call_impl_cache_miss\u001b[0;34m(*args_, **kwargs_)\u001b[0m\n\u001b[1;32m   1221\u001b[0m \u001b[38;5;28;01mdef\u001b[39;00m \u001b[38;5;21mcall_impl_cache_miss\u001b[39m(\u001b[38;5;241m*\u001b[39margs_, \u001b[38;5;241m*\u001b[39m\u001b[38;5;241m*\u001b[39mkwargs_):\n\u001b[0;32m-> 1222\u001b[0m   out_flat, compiled \u001b[38;5;241m=\u001b[39m \u001b[43m_pjit_call_impl_python\u001b[49m\u001b[43m(\u001b[49m\n\u001b[1;32m   1223\u001b[0m \u001b[43m      \u001b[49m\u001b[38;5;241;43m*\u001b[39;49m\u001b[43margs\u001b[49m\u001b[43m,\u001b[49m\u001b[43m \u001b[49m\u001b[43mjaxpr\u001b[49m\u001b[38;5;241;43m=\u001b[39;49m\u001b[43mjaxpr\u001b[49m\u001b[43m,\u001b[49m\u001b[43m \u001b[49m\u001b[43min_shardings\u001b[49m\u001b[38;5;241;43m=\u001b[39;49m\u001b[43min_shardings\u001b[49m\u001b[43m,\u001b[49m\n\u001b[1;32m   1224\u001b[0m \u001b[43m      \u001b[49m\u001b[43mout_shardings\u001b[49m\u001b[38;5;241;43m=\u001b[39;49m\u001b[43mout_shardings\u001b[49m\u001b[43m,\u001b[49m\u001b[43m \u001b[49m\u001b[43mresource_env\u001b[49m\u001b[38;5;241;43m=\u001b[39;49m\u001b[43mresource_env\u001b[49m\u001b[43m,\u001b[49m\n\u001b[1;32m   1225\u001b[0m \u001b[43m      \u001b[49m\u001b[43mdonated_invars\u001b[49m\u001b[38;5;241;43m=\u001b[39;49m\u001b[43mdonated_invars\u001b[49m\u001b[43m,\u001b[49m\u001b[43m \u001b[49m\u001b[43mname\u001b[49m\u001b[38;5;241;43m=\u001b[39;49m\u001b[43mname\u001b[49m\u001b[43m,\u001b[49m\u001b[43m \u001b[49m\u001b[43mkeep_unused\u001b[49m\u001b[38;5;241;43m=\u001b[39;49m\u001b[43mkeep_unused\u001b[49m\u001b[43m,\u001b[49m\n\u001b[1;32m   1226\u001b[0m \u001b[43m      \u001b[49m\u001b[43minline\u001b[49m\u001b[38;5;241;43m=\u001b[39;49m\u001b[43minline\u001b[49m\u001b[43m)\u001b[49m\n\u001b[1;32m   1227\u001b[0m   fastpath_data \u001b[38;5;241m=\u001b[39m _get_fastpath_data(\n\u001b[1;32m   1228\u001b[0m       compiled, tree_structure(out_flat), args, out_flat)\n\u001b[1;32m   1229\u001b[0m   \u001b[38;5;28;01mreturn\u001b[39;00m out_flat, fastpath_data\n",
      "File \u001b[0;32m~/anaconda3/envs/jax/lib/python3.10/site-packages/jax/_src/pjit.py:1158\u001b[0m, in \u001b[0;36m_pjit_call_impl_python\u001b[0;34m(jaxpr, in_shardings, out_shardings, resource_env, donated_invars, name, keep_unused, inline, *args)\u001b[0m\n\u001b[1;32m   1149\u001b[0m \u001b[38;5;28;01mglobal\u001b[39;00m _most_recent_pjit_call_executable\n\u001b[1;32m   1151\u001b[0m in_shardings \u001b[38;5;241m=\u001b[39m _resolve_in_shardings(\n\u001b[1;32m   1152\u001b[0m     args, in_shardings, out_shardings,\n\u001b[1;32m   1153\u001b[0m     resource_env\u001b[38;5;241m.\u001b[39mphysical_mesh \u001b[38;5;28;01mif\u001b[39;00m resource_env \u001b[38;5;129;01mis\u001b[39;00m \u001b[38;5;129;01mnot\u001b[39;00m \u001b[38;5;28;01mNone\u001b[39;00m \u001b[38;5;28;01melse\u001b[39;00m \u001b[38;5;28;01mNone\u001b[39;00m)\n\u001b[1;32m   1155\u001b[0m compiled \u001b[38;5;241m=\u001b[39m \u001b[43m_pjit_lower\u001b[49m\u001b[43m(\u001b[49m\n\u001b[1;32m   1156\u001b[0m \u001b[43m    \u001b[49m\u001b[43mjaxpr\u001b[49m\u001b[43m,\u001b[49m\u001b[43m \u001b[49m\u001b[43min_shardings\u001b[49m\u001b[43m,\u001b[49m\u001b[43m \u001b[49m\u001b[43mout_shardings\u001b[49m\u001b[43m,\u001b[49m\u001b[43m \u001b[49m\u001b[43mresource_env\u001b[49m\u001b[43m,\u001b[49m\n\u001b[1;32m   1157\u001b[0m \u001b[43m    \u001b[49m\u001b[43mdonated_invars\u001b[49m\u001b[43m,\u001b[49m\u001b[43m \u001b[49m\u001b[43mname\u001b[49m\u001b[43m,\u001b[49m\u001b[43m \u001b[49m\u001b[43mkeep_unused\u001b[49m\u001b[43m,\u001b[49m\u001b[43m \u001b[49m\u001b[43minline\u001b[49m\u001b[43m,\u001b[49m\n\u001b[0;32m-> 1158\u001b[0m \u001b[43m    \u001b[49m\u001b[43mlowering_parameters\u001b[49m\u001b[38;5;241;43m=\u001b[39;49m\u001b[43mmlir\u001b[49m\u001b[38;5;241;43m.\u001b[39;49m\u001b[43mLoweringParameters\u001b[49m\u001b[43m(\u001b[49m\u001b[43m)\u001b[49m\u001b[43m)\u001b[49m\u001b[38;5;241;43m.\u001b[39;49m\u001b[43mcompile\u001b[49m\u001b[43m(\u001b[49m\u001b[43m)\u001b[49m\n\u001b[1;32m   1159\u001b[0m _most_recent_pjit_call_executable\u001b[38;5;241m.\u001b[39mweak_key_dict[jaxpr] \u001b[38;5;241m=\u001b[39m compiled\n\u001b[1;32m   1160\u001b[0m \u001b[38;5;66;03m# This check is expensive so only do it if enable_checks is on.\u001b[39;00m\n",
      "File \u001b[0;32m~/anaconda3/envs/jax/lib/python3.10/site-packages/jax/_src/interpreters/pxla.py:2208\u001b[0m, in \u001b[0;36mMeshComputation.compile\u001b[0;34m(self, compiler_options)\u001b[0m\n\u001b[1;32m   2206\u001b[0m \u001b[38;5;28;01mdef\u001b[39;00m \u001b[38;5;21mcompile\u001b[39m(\u001b[38;5;28mself\u001b[39m, compiler_options\u001b[38;5;241m=\u001b[39m\u001b[38;5;28;01mNone\u001b[39;00m) \u001b[38;5;241m-\u001b[39m\u001b[38;5;241m>\u001b[39m MeshExecutable:\n\u001b[1;32m   2207\u001b[0m   \u001b[38;5;28;01mif\u001b[39;00m \u001b[38;5;28mself\u001b[39m\u001b[38;5;241m.\u001b[39m_executable \u001b[38;5;129;01mis\u001b[39;00m \u001b[38;5;28;01mNone\u001b[39;00m \u001b[38;5;129;01mor\u001b[39;00m compiler_options \u001b[38;5;129;01mis\u001b[39;00m \u001b[38;5;129;01mnot\u001b[39;00m \u001b[38;5;28;01mNone\u001b[39;00m:\n\u001b[0;32m-> 2208\u001b[0m     executable \u001b[38;5;241m=\u001b[39m \u001b[43mUnloadedMeshExecutable\u001b[49m\u001b[38;5;241;43m.\u001b[39;49m\u001b[43mfrom_hlo\u001b[49m\u001b[43m(\u001b[49m\n\u001b[1;32m   2209\u001b[0m \u001b[43m        \u001b[49m\u001b[38;5;28;43mself\u001b[39;49m\u001b[38;5;241;43m.\u001b[39;49m\u001b[43m_name\u001b[49m\u001b[43m,\u001b[49m\u001b[43m \u001b[49m\u001b[38;5;28;43mself\u001b[39;49m\u001b[38;5;241;43m.\u001b[39;49m\u001b[43m_hlo\u001b[49m\u001b[43m,\u001b[49m\u001b[43m \u001b[49m\u001b[38;5;241;43m*\u001b[39;49m\u001b[38;5;241;43m*\u001b[39;49m\u001b[38;5;28;43mself\u001b[39;49m\u001b[38;5;241;43m.\u001b[39;49m\u001b[43mcompile_args\u001b[49m\u001b[43m,\u001b[49m\n\u001b[1;32m   2210\u001b[0m \u001b[43m        \u001b[49m\u001b[43mcompiler_options\u001b[49m\u001b[38;5;241;43m=\u001b[39;49m\u001b[43mcompiler_options\u001b[49m\u001b[43m)\u001b[49m\n\u001b[1;32m   2211\u001b[0m     \u001b[38;5;28;01mif\u001b[39;00m compiler_options \u001b[38;5;129;01mis\u001b[39;00m \u001b[38;5;28;01mNone\u001b[39;00m:\n\u001b[1;32m   2212\u001b[0m       \u001b[38;5;28mself\u001b[39m\u001b[38;5;241m.\u001b[39m_executable \u001b[38;5;241m=\u001b[39m executable\n",
      "File \u001b[0;32m~/anaconda3/envs/jax/lib/python3.10/site-packages/jax/_src/interpreters/pxla.py:2648\u001b[0m, in \u001b[0;36mUnloadedMeshExecutable.from_hlo\u001b[0;34m(***failed resolving arguments***)\u001b[0m\n\u001b[1;32m   2645\u001b[0m       mesh \u001b[38;5;241m=\u001b[39m i\u001b[38;5;241m.\u001b[39mmesh  \u001b[38;5;66;03m# type: ignore\u001b[39;00m\n\u001b[1;32m   2646\u001b[0m       \u001b[38;5;28;01mbreak\u001b[39;00m\n\u001b[0;32m-> 2648\u001b[0m xla_executable, compile_options \u001b[38;5;241m=\u001b[39m \u001b[43m_cached_compilation\u001b[49m\u001b[43m(\u001b[49m\n\u001b[1;32m   2649\u001b[0m \u001b[43m    \u001b[49m\u001b[43mhlo\u001b[49m\u001b[43m,\u001b[49m\u001b[43m \u001b[49m\u001b[43mname\u001b[49m\u001b[43m,\u001b[49m\u001b[43m \u001b[49m\u001b[43mmesh\u001b[49m\u001b[43m,\u001b[49m\u001b[43m \u001b[49m\u001b[43mspmd_lowering\u001b[49m\u001b[43m,\u001b[49m\n\u001b[1;32m   2650\u001b[0m \u001b[43m    \u001b[49m\u001b[43mtuple_args\u001b[49m\u001b[43m,\u001b[49m\u001b[43m \u001b[49m\u001b[43mauto_spmd_lowering\u001b[49m\u001b[43m,\u001b[49m\u001b[43m \u001b[49m\u001b[43mallow_prop_to_outputs\u001b[49m\u001b[43m,\u001b[49m\n\u001b[1;32m   2651\u001b[0m \u001b[43m    \u001b[49m\u001b[38;5;28;43mtuple\u001b[39;49m\u001b[43m(\u001b[49m\u001b[43mhost_callbacks\u001b[49m\u001b[43m)\u001b[49m\u001b[43m,\u001b[49m\u001b[43m \u001b[49m\u001b[43mbackend\u001b[49m\u001b[43m,\u001b[49m\u001b[43m \u001b[49m\u001b[43mda\u001b[49m\u001b[43m,\u001b[49m\u001b[43m \u001b[49m\u001b[43mpmap_nreps\u001b[49m\u001b[43m,\u001b[49m\n\u001b[1;32m   2652\u001b[0m \u001b[43m    \u001b[49m\u001b[43mcompiler_options_keys\u001b[49m\u001b[43m,\u001b[49m\u001b[43m \u001b[49m\u001b[43mcompiler_options_values\u001b[49m\u001b[43m)\u001b[49m\n\u001b[1;32m   2654\u001b[0m \u001b[38;5;28;01mif\u001b[39;00m \u001b[38;5;28mhasattr\u001b[39m(backend, \u001b[38;5;124m\"\u001b[39m\u001b[38;5;124mcompile_replicated\u001b[39m\u001b[38;5;124m\"\u001b[39m):\n\u001b[1;32m   2655\u001b[0m   semantics_in_shardings \u001b[38;5;241m=\u001b[39m SemanticallyEqualShardings(in_shardings)  \u001b[38;5;66;03m# type: ignore\u001b[39;00m\n",
      "File \u001b[0;32m~/anaconda3/envs/jax/lib/python3.10/site-packages/jax/_src/interpreters/pxla.py:2517\u001b[0m, in \u001b[0;36m_cached_compilation\u001b[0;34m(computation, name, mesh, spmd_lowering, tuple_args, auto_spmd_lowering, _allow_propagation_to_outputs, host_callbacks, backend, da, pmap_nreps, compiler_options_keys, compiler_options_values)\u001b[0m\n\u001b[1;32m   2512\u001b[0m   \u001b[38;5;28;01mreturn\u001b[39;00m \u001b[38;5;28;01mNone\u001b[39;00m, compile_options\n\u001b[1;32m   2514\u001b[0m \u001b[38;5;28;01mwith\u001b[39;00m dispatch\u001b[38;5;241m.\u001b[39mlog_elapsed_time(\n\u001b[1;32m   2515\u001b[0m     \u001b[38;5;124m\"\u001b[39m\u001b[38;5;124mFinished XLA compilation of \u001b[39m\u001b[38;5;132;01m{fun_name}\u001b[39;00m\u001b[38;5;124m in \u001b[39m\u001b[38;5;132;01m{elapsed_time}\u001b[39;00m\u001b[38;5;124m sec\u001b[39m\u001b[38;5;124m\"\u001b[39m,\n\u001b[1;32m   2516\u001b[0m     fun_name\u001b[38;5;241m=\u001b[39mname, event\u001b[38;5;241m=\u001b[39mdispatch\u001b[38;5;241m.\u001b[39mBACKEND_COMPILE_EVENT):\n\u001b[0;32m-> 2517\u001b[0m   xla_executable \u001b[38;5;241m=\u001b[39m \u001b[43mcompiler\u001b[49m\u001b[38;5;241;43m.\u001b[39;49m\u001b[43mcompile_or_get_cached\u001b[49m\u001b[43m(\u001b[49m\n\u001b[1;32m   2518\u001b[0m \u001b[43m      \u001b[49m\u001b[43mbackend\u001b[49m\u001b[43m,\u001b[49m\u001b[43m \u001b[49m\u001b[43mcomputation\u001b[49m\u001b[43m,\u001b[49m\u001b[43m \u001b[49m\u001b[43mdev\u001b[49m\u001b[43m,\u001b[49m\u001b[43m \u001b[49m\u001b[43mcompile_options\u001b[49m\u001b[43m,\u001b[49m\u001b[43m \u001b[49m\u001b[43mhost_callbacks\u001b[49m\u001b[43m)\u001b[49m\n\u001b[1;32m   2519\u001b[0m \u001b[38;5;28;01mreturn\u001b[39;00m xla_executable, compile_options\n",
      "File \u001b[0;32m~/anaconda3/envs/jax/lib/python3.10/site-packages/jax/_src/compiler.py:350\u001b[0m, in \u001b[0;36mcompile_or_get_cached\u001b[0;34m(backend, computation, devices, compile_options, host_callbacks)\u001b[0m\n\u001b[1;32m    348\u001b[0m \u001b[38;5;28;01melse\u001b[39;00m:\n\u001b[1;32m    349\u001b[0m   start_time \u001b[38;5;241m=\u001b[39m time\u001b[38;5;241m.\u001b[39mmonotonic()\n\u001b[0;32m--> 350\u001b[0m   executable \u001b[38;5;241m=\u001b[39m \u001b[43mbackend_compile\u001b[49m\u001b[43m(\u001b[49m\u001b[43mbackend\u001b[49m\u001b[43m,\u001b[49m\u001b[43m \u001b[49m\u001b[43mcomputation\u001b[49m\u001b[43m,\u001b[49m\n\u001b[1;32m    351\u001b[0m \u001b[43m                              \u001b[49m\u001b[43mcompile_options\u001b[49m\u001b[43m,\u001b[49m\u001b[43m \u001b[49m\u001b[43mhost_callbacks\u001b[49m\u001b[43m)\u001b[49m\n\u001b[1;32m    352\u001b[0m   compile_time \u001b[38;5;241m=\u001b[39m time\u001b[38;5;241m.\u001b[39mmonotonic() \u001b[38;5;241m-\u001b[39m start_time\n\u001b[1;32m    353\u001b[0m   _cache_write(cache_key, compile_time, module_name, backend, executable,\n\u001b[1;32m    354\u001b[0m                host_callbacks)\n",
      "File \u001b[0;32m~/anaconda3/envs/jax/lib/python3.10/site-packages/jax/_src/profiler.py:334\u001b[0m, in \u001b[0;36mannotate_function.<locals>.wrapper\u001b[0;34m(*args, **kwargs)\u001b[0m\n\u001b[1;32m    331\u001b[0m \u001b[38;5;129m@wraps\u001b[39m(func)\n\u001b[1;32m    332\u001b[0m \u001b[38;5;28;01mdef\u001b[39;00m \u001b[38;5;21mwrapper\u001b[39m(\u001b[38;5;241m*\u001b[39margs, \u001b[38;5;241m*\u001b[39m\u001b[38;5;241m*\u001b[39mkwargs):\n\u001b[1;32m    333\u001b[0m   \u001b[38;5;28;01mwith\u001b[39;00m TraceAnnotation(name, \u001b[38;5;241m*\u001b[39m\u001b[38;5;241m*\u001b[39mdecorator_kwargs):\n\u001b[0;32m--> 334\u001b[0m     \u001b[38;5;28;01mreturn\u001b[39;00m \u001b[43mfunc\u001b[49m\u001b[43m(\u001b[49m\u001b[38;5;241;43m*\u001b[39;49m\u001b[43margs\u001b[49m\u001b[43m,\u001b[49m\u001b[43m \u001b[49m\u001b[38;5;241;43m*\u001b[39;49m\u001b[38;5;241;43m*\u001b[39;49m\u001b[43mkwargs\u001b[49m\u001b[43m)\u001b[49m\n\u001b[1;32m    335\u001b[0m   \u001b[38;5;28;01mreturn\u001b[39;00m wrapper\n",
      "File \u001b[0;32m~/anaconda3/envs/jax/lib/python3.10/site-packages/jax/_src/compiler.py:261\u001b[0m, in \u001b[0;36mbackend_compile\u001b[0;34m(backend, module, options, host_callbacks)\u001b[0m\n\u001b[1;32m    256\u001b[0m   \u001b[38;5;28;01mreturn\u001b[39;00m backend\u001b[38;5;241m.\u001b[39mcompile(built_c, compile_options\u001b[38;5;241m=\u001b[39moptions,\n\u001b[1;32m    257\u001b[0m                          host_callbacks\u001b[38;5;241m=\u001b[39mhost_callbacks)\n\u001b[1;32m    258\u001b[0m \u001b[38;5;66;03m# Some backends don't have `host_callbacks` option yet\u001b[39;00m\n\u001b[1;32m    259\u001b[0m \u001b[38;5;66;03m# TODO(sharadmv): remove this fallback when all backends allow `compile`\u001b[39;00m\n\u001b[1;32m    260\u001b[0m \u001b[38;5;66;03m# to take in `host_callbacks`\u001b[39;00m\n\u001b[0;32m--> 261\u001b[0m \u001b[38;5;28;01mreturn\u001b[39;00m \u001b[43mbackend\u001b[49m\u001b[38;5;241;43m.\u001b[39;49m\u001b[43mcompile\u001b[49m\u001b[43m(\u001b[49m\u001b[43mbuilt_c\u001b[49m\u001b[43m,\u001b[49m\u001b[43m \u001b[49m\u001b[43mcompile_options\u001b[49m\u001b[38;5;241;43m=\u001b[39;49m\u001b[43moptions\u001b[49m\u001b[43m)\u001b[49m\n",
      "\u001b[0;31mKeyboardInterrupt\u001b[0m: "
     ]
    }
   ],
   "source": [
    "for i in range(1000):\n",
    "    agent_data = agent_target_ds.sample(512)\n",
    "    expert_data = expert_source_ds.sample(512)\n",
    "    random_data = non_expert_source_ds.sample(512)\n",
    "    loss_elem, loss_pairs, w_dist_elem, w_dist_pairs = agent.optimize_not(agent_data, expert_data, random_data)\n",
    "    if i % 5 == 0:\n",
    "        info = agent.optimize_encoders(agent_data, expert_data, random_data)\n",
    "    if i % 50 == 0:\n",
    "        print(info)\n",
    "        se = agent.encoders_state(expert_data.observations, method='encode_expert')\n",
    "        sa = agent.encoders_state(agent_data.observations, method='encode_agent')\n",
    "        sink = sinkhorn_loss(sa, se)\n",
    "        print(loss_elem, loss_pairs, w_dist_elem, w_dist_pairs, sink)\n",
    "        print()"
   ]
  },
  {
   "cell_type": "code",
   "execution_count": null,
   "metadata": {},
   "outputs": [],
   "source": []
  },
  {
   "cell_type": "code",
   "execution_count": null,
   "metadata": {},
   "outputs": [],
   "source": []
  }
 ],
 "metadata": {
  "kernelspec": {
   "display_name": "torch",
   "language": "python",
   "name": "python3"
  },
  "language_info": {
   "codemirror_mode": {
    "name": "ipython",
    "version": 3
   },
   "file_extension": ".py",
   "mimetype": "text/x-python",
   "name": "python",
   "nbconvert_exporter": "python",
   "pygments_lexer": "ipython3",
   "version": "3.10.14"
  }
 },
 "nbformat": 4,
 "nbformat_minor": 2
}
